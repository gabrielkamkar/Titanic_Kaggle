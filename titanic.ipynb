{
 "cells": [
  {
   "cell_type": "markdown",
   "id": "junior-peter",
   "metadata": {
    "papermill": {
     "duration": 0.039706,
     "end_time": "2022-01-12T02:25:36.594635",
     "exception": false,
     "start_time": "2022-01-12T02:25:36.554929",
     "status": "completed"
    },
    "tags": []
   },
   "source": [
    "A large thank you to Ken Jee on Youtube for helping me walk through this first project. "
   ]
  },
  {
   "cell_type": "code",
   "execution_count": 1,
   "id": "rational-archives",
   "metadata": {
    "_cell_guid": "b1076dfc-b9ad-4769-8c92-a6c4dae69d19",
    "_uuid": "8f2839f25d086af736a60e9eeb907d3b93b6e0e5",
    "execution": {
     "iopub.execute_input": "2022-01-12T02:25:36.671722Z",
     "iopub.status.busy": "2022-01-12T02:25:36.670535Z",
     "iopub.status.idle": "2022-01-12T02:25:37.569975Z",
     "shell.execute_reply": "2022-01-12T02:25:37.570958Z",
     "shell.execute_reply.started": "2022-01-12T02:22:17.755541Z"
    },
    "papermill": {
     "duration": 0.94053,
     "end_time": "2022-01-12T02:25:37.571388",
     "exception": false,
     "start_time": "2022-01-12T02:25:36.630858",
     "status": "completed"
    },
    "tags": []
   },
   "outputs": [
    {
     "name": "stdout",
     "output_type": "stream",
     "text": [
      "/kaggle/input/titanic/train.csv\n",
      "/kaggle/input/titanic/test.csv\n",
      "/kaggle/input/titanic/gender_submission.csv\n"
     ]
    }
   ],
   "source": [
    "# This Python 3 environment comes with many helpful analytics libraries installed\n",
    "# It is defined by the kaggle/python Docker image: https://github.com/kaggle/docker-python\n",
    "# For example, here's several helpful packages to load\n",
    "\n",
    "import numpy as np # linear algebra\n",
    "import pandas as pd # data processing, CSV file I/O (e.g. pd.read_csv)\n",
    "import seaborn as sns\n",
    "import matplotlib.pyplot as plot\n",
    "\n",
    "import os\n",
    "for dirname, _, filenames in os.walk('/kaggle/input'):\n",
    "    for filename in filenames:\n",
    "        print(os.path.join(dirname, filename))\n"
   ]
  },
  {
   "cell_type": "code",
   "execution_count": 2,
   "id": "necessary-search",
   "metadata": {
    "execution": {
     "iopub.execute_input": "2022-01-12T02:25:37.650766Z",
     "iopub.status.busy": "2022-01-12T02:25:37.650057Z",
     "iopub.status.idle": "2022-01-12T02:25:37.657158Z",
     "shell.execute_reply": "2022-01-12T02:25:37.657611Z",
     "shell.execute_reply.started": "2022-01-12T02:22:18.582252Z"
    },
    "papermill": {
     "duration": 0.04766,
     "end_time": "2022-01-12T02:25:37.657782",
     "exception": false,
     "start_time": "2022-01-12T02:25:37.610122",
     "status": "completed"
    },
    "tags": []
   },
   "outputs": [
    {
     "data": {
      "text/plain": [
       "'\\nVariable\\tDefinition\\tKey\\nsurvival\\tSurvival\\t0 = No, 1 = Yes\\npclass\\tTicket class\\t1 = 1st, 2 = 2nd, 3 = 3rd\\nsex\\tSex\\t\\nAge\\tAge in years\\t\\nsibsp\\t# of siblings / spouses aboard the Titanic\\t\\nparch\\t# of parents / children aboard the Titanic\\t\\nticket\\tTicket number\\t\\nfare\\tPassenger fare\\t\\ncabin\\tCabin number\\t\\nembarked\\tPort of Embarkation\\tC = Cherbourg, Q = Queenstown, S = Southampton\\n'"
      ]
     },
     "execution_count": 2,
     "metadata": {},
     "output_type": "execute_result"
    }
   ],
   "source": [
    "'''\n",
    "Variable\tDefinition\tKey\n",
    "survival\tSurvival\t0 = No, 1 = Yes\n",
    "pclass\tTicket class\t1 = 1st, 2 = 2nd, 3 = 3rd\n",
    "sex\tSex\t\n",
    "Age\tAge in years\t\n",
    "sibsp\t# of siblings / spouses aboard the Titanic\t\n",
    "parch\t# of parents / children aboard the Titanic\t\n",
    "ticket\tTicket number\t\n",
    "fare\tPassenger fare\t\n",
    "cabin\tCabin number\t\n",
    "embarked\tPort of Embarkation\tC = Cherbourg, Q = Queenstown, S = Southampton\n",
    "'''"
   ]
  },
  {
   "cell_type": "code",
   "execution_count": 3,
   "id": "bottom-flour",
   "metadata": {
    "execution": {
     "iopub.execute_input": "2022-01-12T02:25:37.734967Z",
     "iopub.status.busy": "2022-01-12T02:25:37.734293Z",
     "iopub.status.idle": "2022-01-12T02:25:37.802663Z",
     "shell.execute_reply": "2022-01-12T02:25:37.803178Z",
     "shell.execute_reply.started": "2022-01-12T02:22:18.593331Z"
    },
    "papermill": {
     "duration": 0.108776,
     "end_time": "2022-01-12T02:25:37.803358",
     "exception": false,
     "start_time": "2022-01-12T02:25:37.694582",
     "status": "completed"
    },
    "tags": []
   },
   "outputs": [
    {
     "data": {
      "text/html": [
       "<div>\n",
       "<style scoped>\n",
       "    .dataframe tbody tr th:only-of-type {\n",
       "        vertical-align: middle;\n",
       "    }\n",
       "\n",
       "    .dataframe tbody tr th {\n",
       "        vertical-align: top;\n",
       "    }\n",
       "\n",
       "    .dataframe thead th {\n",
       "        text-align: right;\n",
       "    }\n",
       "</style>\n",
       "<table border=\"1\" class=\"dataframe\">\n",
       "  <thead>\n",
       "    <tr style=\"text-align: right;\">\n",
       "      <th></th>\n",
       "      <th>PassengerId</th>\n",
       "      <th>Survived</th>\n",
       "      <th>Pclass</th>\n",
       "      <th>Name</th>\n",
       "      <th>Sex</th>\n",
       "      <th>Age</th>\n",
       "      <th>SibSp</th>\n",
       "      <th>Parch</th>\n",
       "      <th>Ticket</th>\n",
       "      <th>Fare</th>\n",
       "      <th>Cabin</th>\n",
       "      <th>Embarked</th>\n",
       "      <th>train_test</th>\n",
       "    </tr>\n",
       "  </thead>\n",
       "  <tbody>\n",
       "    <tr>\n",
       "      <th>0</th>\n",
       "      <td>1</td>\n",
       "      <td>0</td>\n",
       "      <td>3</td>\n",
       "      <td>Braund, Mr. Owen Harris</td>\n",
       "      <td>male</td>\n",
       "      <td>22.0</td>\n",
       "      <td>1</td>\n",
       "      <td>0</td>\n",
       "      <td>A/5 21171</td>\n",
       "      <td>7.2500</td>\n",
       "      <td>NaN</td>\n",
       "      <td>S</td>\n",
       "      <td>1</td>\n",
       "    </tr>\n",
       "    <tr>\n",
       "      <th>1</th>\n",
       "      <td>2</td>\n",
       "      <td>1</td>\n",
       "      <td>1</td>\n",
       "      <td>Cumings, Mrs. John Bradley (Florence Briggs Th...</td>\n",
       "      <td>female</td>\n",
       "      <td>38.0</td>\n",
       "      <td>1</td>\n",
       "      <td>0</td>\n",
       "      <td>PC 17599</td>\n",
       "      <td>71.2833</td>\n",
       "      <td>C85</td>\n",
       "      <td>C</td>\n",
       "      <td>1</td>\n",
       "    </tr>\n",
       "    <tr>\n",
       "      <th>2</th>\n",
       "      <td>3</td>\n",
       "      <td>1</td>\n",
       "      <td>3</td>\n",
       "      <td>Heikkinen, Miss. Laina</td>\n",
       "      <td>female</td>\n",
       "      <td>26.0</td>\n",
       "      <td>0</td>\n",
       "      <td>0</td>\n",
       "      <td>STON/O2. 3101282</td>\n",
       "      <td>7.9250</td>\n",
       "      <td>NaN</td>\n",
       "      <td>S</td>\n",
       "      <td>1</td>\n",
       "    </tr>\n",
       "    <tr>\n",
       "      <th>3</th>\n",
       "      <td>4</td>\n",
       "      <td>1</td>\n",
       "      <td>1</td>\n",
       "      <td>Futrelle, Mrs. Jacques Heath (Lily May Peel)</td>\n",
       "      <td>female</td>\n",
       "      <td>35.0</td>\n",
       "      <td>1</td>\n",
       "      <td>0</td>\n",
       "      <td>113803</td>\n",
       "      <td>53.1000</td>\n",
       "      <td>C123</td>\n",
       "      <td>S</td>\n",
       "      <td>1</td>\n",
       "    </tr>\n",
       "    <tr>\n",
       "      <th>4</th>\n",
       "      <td>5</td>\n",
       "      <td>0</td>\n",
       "      <td>3</td>\n",
       "      <td>Allen, Mr. William Henry</td>\n",
       "      <td>male</td>\n",
       "      <td>35.0</td>\n",
       "      <td>0</td>\n",
       "      <td>0</td>\n",
       "      <td>373450</td>\n",
       "      <td>8.0500</td>\n",
       "      <td>NaN</td>\n",
       "      <td>S</td>\n",
       "      <td>1</td>\n",
       "    </tr>\n",
       "  </tbody>\n",
       "</table>\n",
       "</div>"
      ],
      "text/plain": [
       "   PassengerId  Survived  Pclass  \\\n",
       "0            1         0       3   \n",
       "1            2         1       1   \n",
       "2            3         1       3   \n",
       "3            4         1       1   \n",
       "4            5         0       3   \n",
       "\n",
       "                                                Name     Sex   Age  SibSp  \\\n",
       "0                            Braund, Mr. Owen Harris    male  22.0      1   \n",
       "1  Cumings, Mrs. John Bradley (Florence Briggs Th...  female  38.0      1   \n",
       "2                             Heikkinen, Miss. Laina  female  26.0      0   \n",
       "3       Futrelle, Mrs. Jacques Heath (Lily May Peel)  female  35.0      1   \n",
       "4                           Allen, Mr. William Henry    male  35.0      0   \n",
       "\n",
       "   Parch            Ticket     Fare Cabin Embarked  train_test  \n",
       "0      0         A/5 21171   7.2500   NaN        S           1  \n",
       "1      0          PC 17599  71.2833   C85        C           1  \n",
       "2      0  STON/O2. 3101282   7.9250   NaN        S           1  \n",
       "3      0            113803  53.1000  C123        S           1  \n",
       "4      0            373450   8.0500   NaN        S           1  "
      ]
     },
     "execution_count": 3,
     "metadata": {},
     "output_type": "execute_result"
    }
   ],
   "source": [
    "train = pd.read_csv('/kaggle/input/titanic/train.csv')\n",
    "test = pd.read_csv('/kaggle/input/titanic/test.csv')\n",
    "\n",
    "train['train_test'] = 1\n",
    "test['train_test'] = 0\n",
    "test['Survived'] = np.NaN\n",
    "all_data = pd.concat([train,test])\n",
    "\n",
    "%matplotlib inline\n",
    "\n",
    "train.head(5)"
   ]
  },
  {
   "cell_type": "markdown",
   "id": "living-handy",
   "metadata": {
    "papermill": {
     "duration": 0.038036,
     "end_time": "2022-01-12T02:25:37.880723",
     "exception": false,
     "start_time": "2022-01-12T02:25:37.842687",
     "status": "completed"
    },
    "tags": []
   },
   "source": [
    "# **Understand the Data**"
   ]
  },
  {
   "cell_type": "code",
   "execution_count": 4,
   "id": "hairy-sleep",
   "metadata": {
    "execution": {
     "iopub.execute_input": "2022-01-12T02:25:37.974875Z",
     "iopub.status.busy": "2022-01-12T02:25:37.974204Z",
     "iopub.status.idle": "2022-01-12T02:25:37.978387Z",
     "shell.execute_reply": "2022-01-12T02:25:37.977643Z",
     "shell.execute_reply.started": "2022-01-12T02:22:18.667091Z"
    },
    "papermill": {
     "duration": 0.060064,
     "end_time": "2022-01-12T02:25:37.978584",
     "exception": false,
     "start_time": "2022-01-12T02:25:37.918520",
     "status": "completed"
    },
    "tags": []
   },
   "outputs": [
    {
     "name": "stdout",
     "output_type": "stream",
     "text": [
      "<class 'pandas.core.frame.DataFrame'>\n",
      "RangeIndex: 891 entries, 0 to 890\n",
      "Data columns (total 13 columns):\n",
      " #   Column       Non-Null Count  Dtype  \n",
      "---  ------       --------------  -----  \n",
      " 0   PassengerId  891 non-null    int64  \n",
      " 1   Survived     891 non-null    int64  \n",
      " 2   Pclass       891 non-null    int64  \n",
      " 3   Name         891 non-null    object \n",
      " 4   Sex          891 non-null    object \n",
      " 5   Age          714 non-null    float64\n",
      " 6   SibSp        891 non-null    int64  \n",
      " 7   Parch        891 non-null    int64  \n",
      " 8   Ticket       891 non-null    object \n",
      " 9   Fare         891 non-null    float64\n",
      " 10  Cabin        204 non-null    object \n",
      " 11  Embarked     889 non-null    object \n",
      " 12  train_test   891 non-null    int64  \n",
      "dtypes: float64(2), int64(6), object(5)\n",
      "memory usage: 90.6+ KB\n"
     ]
    }
   ],
   "source": [
    "train.info()"
   ]
  },
  {
   "cell_type": "code",
   "execution_count": 5,
   "id": "catholic-serial",
   "metadata": {
    "execution": {
     "iopub.execute_input": "2022-01-12T02:25:38.064072Z",
     "iopub.status.busy": "2022-01-12T02:25:38.063000Z",
     "iopub.status.idle": "2022-01-12T02:25:38.102432Z",
     "shell.execute_reply": "2022-01-12T02:25:38.101800Z",
     "shell.execute_reply.started": "2022-01-12T02:22:18.689238Z"
    },
    "papermill": {
     "duration": 0.085082,
     "end_time": "2022-01-12T02:25:38.102596",
     "exception": false,
     "start_time": "2022-01-12T02:25:38.017514",
     "status": "completed"
    },
    "tags": []
   },
   "outputs": [
    {
     "data": {
      "text/html": [
       "<div>\n",
       "<style scoped>\n",
       "    .dataframe tbody tr th:only-of-type {\n",
       "        vertical-align: middle;\n",
       "    }\n",
       "\n",
       "    .dataframe tbody tr th {\n",
       "        vertical-align: top;\n",
       "    }\n",
       "\n",
       "    .dataframe thead th {\n",
       "        text-align: right;\n",
       "    }\n",
       "</style>\n",
       "<table border=\"1\" class=\"dataframe\">\n",
       "  <thead>\n",
       "    <tr style=\"text-align: right;\">\n",
       "      <th></th>\n",
       "      <th>PassengerId</th>\n",
       "      <th>Survived</th>\n",
       "      <th>Pclass</th>\n",
       "      <th>Age</th>\n",
       "      <th>SibSp</th>\n",
       "      <th>Parch</th>\n",
       "      <th>Fare</th>\n",
       "      <th>train_test</th>\n",
       "    </tr>\n",
       "  </thead>\n",
       "  <tbody>\n",
       "    <tr>\n",
       "      <th>count</th>\n",
       "      <td>891.000000</td>\n",
       "      <td>891.000000</td>\n",
       "      <td>891.000000</td>\n",
       "      <td>714.000000</td>\n",
       "      <td>891.000000</td>\n",
       "      <td>891.000000</td>\n",
       "      <td>891.000000</td>\n",
       "      <td>891.0</td>\n",
       "    </tr>\n",
       "    <tr>\n",
       "      <th>mean</th>\n",
       "      <td>446.000000</td>\n",
       "      <td>0.383838</td>\n",
       "      <td>2.308642</td>\n",
       "      <td>29.699118</td>\n",
       "      <td>0.523008</td>\n",
       "      <td>0.381594</td>\n",
       "      <td>32.204208</td>\n",
       "      <td>1.0</td>\n",
       "    </tr>\n",
       "    <tr>\n",
       "      <th>std</th>\n",
       "      <td>257.353842</td>\n",
       "      <td>0.486592</td>\n",
       "      <td>0.836071</td>\n",
       "      <td>14.526497</td>\n",
       "      <td>1.102743</td>\n",
       "      <td>0.806057</td>\n",
       "      <td>49.693429</td>\n",
       "      <td>0.0</td>\n",
       "    </tr>\n",
       "    <tr>\n",
       "      <th>min</th>\n",
       "      <td>1.000000</td>\n",
       "      <td>0.000000</td>\n",
       "      <td>1.000000</td>\n",
       "      <td>0.420000</td>\n",
       "      <td>0.000000</td>\n",
       "      <td>0.000000</td>\n",
       "      <td>0.000000</td>\n",
       "      <td>1.0</td>\n",
       "    </tr>\n",
       "    <tr>\n",
       "      <th>25%</th>\n",
       "      <td>223.500000</td>\n",
       "      <td>0.000000</td>\n",
       "      <td>2.000000</td>\n",
       "      <td>20.125000</td>\n",
       "      <td>0.000000</td>\n",
       "      <td>0.000000</td>\n",
       "      <td>7.910400</td>\n",
       "      <td>1.0</td>\n",
       "    </tr>\n",
       "    <tr>\n",
       "      <th>50%</th>\n",
       "      <td>446.000000</td>\n",
       "      <td>0.000000</td>\n",
       "      <td>3.000000</td>\n",
       "      <td>28.000000</td>\n",
       "      <td>0.000000</td>\n",
       "      <td>0.000000</td>\n",
       "      <td>14.454200</td>\n",
       "      <td>1.0</td>\n",
       "    </tr>\n",
       "    <tr>\n",
       "      <th>75%</th>\n",
       "      <td>668.500000</td>\n",
       "      <td>1.000000</td>\n",
       "      <td>3.000000</td>\n",
       "      <td>38.000000</td>\n",
       "      <td>1.000000</td>\n",
       "      <td>0.000000</td>\n",
       "      <td>31.000000</td>\n",
       "      <td>1.0</td>\n",
       "    </tr>\n",
       "    <tr>\n",
       "      <th>max</th>\n",
       "      <td>891.000000</td>\n",
       "      <td>1.000000</td>\n",
       "      <td>3.000000</td>\n",
       "      <td>80.000000</td>\n",
       "      <td>8.000000</td>\n",
       "      <td>6.000000</td>\n",
       "      <td>512.329200</td>\n",
       "      <td>1.0</td>\n",
       "    </tr>\n",
       "  </tbody>\n",
       "</table>\n",
       "</div>"
      ],
      "text/plain": [
       "       PassengerId    Survived      Pclass         Age       SibSp  \\\n",
       "count   891.000000  891.000000  891.000000  714.000000  891.000000   \n",
       "mean    446.000000    0.383838    2.308642   29.699118    0.523008   \n",
       "std     257.353842    0.486592    0.836071   14.526497    1.102743   \n",
       "min       1.000000    0.000000    1.000000    0.420000    0.000000   \n",
       "25%     223.500000    0.000000    2.000000   20.125000    0.000000   \n",
       "50%     446.000000    0.000000    3.000000   28.000000    0.000000   \n",
       "75%     668.500000    1.000000    3.000000   38.000000    1.000000   \n",
       "max     891.000000    1.000000    3.000000   80.000000    8.000000   \n",
       "\n",
       "            Parch        Fare  train_test  \n",
       "count  891.000000  891.000000       891.0  \n",
       "mean     0.381594   32.204208         1.0  \n",
       "std      0.806057   49.693429         0.0  \n",
       "min      0.000000    0.000000         1.0  \n",
       "25%      0.000000    7.910400         1.0  \n",
       "50%      0.000000   14.454200         1.0  \n",
       "75%      0.000000   31.000000         1.0  \n",
       "max      6.000000  512.329200         1.0  "
      ]
     },
     "execution_count": 5,
     "metadata": {},
     "output_type": "execute_result"
    }
   ],
   "source": [
    "train.describe()"
   ]
  },
  {
   "cell_type": "code",
   "execution_count": 6,
   "id": "descending-nickname",
   "metadata": {
    "execution": {
     "iopub.execute_input": "2022-01-12T02:25:38.185107Z",
     "iopub.status.busy": "2022-01-12T02:25:38.184368Z",
     "iopub.status.idle": "2022-01-12T02:25:38.187804Z",
     "shell.execute_reply": "2022-01-12T02:25:38.188313Z",
     "shell.execute_reply.started": "2022-01-12T02:22:18.733183Z"
    },
    "papermill": {
     "duration": 0.047199,
     "end_time": "2022-01-12T02:25:38.188501",
     "exception": false,
     "start_time": "2022-01-12T02:25:38.141302",
     "status": "completed"
    },
    "tags": []
   },
   "outputs": [],
   "source": [
    "# separate data into numeric and categorical\n",
    "\n",
    "train_num = train[['Age', 'SibSp', 'Parch', 'Fare']]\n",
    "train_cat = train[['Survived', 'Pclass', 'Sex', 'Ticket', 'Cabin', 'Embarked']]\n"
   ]
  },
  {
   "cell_type": "code",
   "execution_count": 7,
   "id": "athletic-english",
   "metadata": {
    "execution": {
     "iopub.execute_input": "2022-01-12T02:25:38.268753Z",
     "iopub.status.busy": "2022-01-12T02:25:38.267765Z",
     "iopub.status.idle": "2022-01-12T02:25:38.956285Z",
     "shell.execute_reply": "2022-01-12T02:25:38.955602Z",
     "shell.execute_reply.started": "2022-01-12T02:22:18.743492Z"
    },
    "papermill": {
     "duration": 0.729675,
     "end_time": "2022-01-12T02:25:38.956505",
     "exception": false,
     "start_time": "2022-01-12T02:25:38.226830",
     "status": "completed"
    },
    "tags": []
   },
   "outputs": [
    {
     "data": {
      "image/png": "[encoded data removed]",
      "text/plain": [
       "<Figure size 432x288 with 1 Axes>"
      ]
     },
     "metadata": {
      "needs_background": "light"
     },
     "output_type": "display_data"
    },
    {
     "data": {
      "image/png": "[encoded data removed]",
      "text/plain": [
       "<Figure size 432x288 with 1 Axes>"
      ]
     },
     "metadata": {
      "needs_background": "light"
     },
     "output_type": "display_data"
    },
    {
     "data": {
      "image/png": "[encoded data removed]",
      "text/plain": [
       "<Figure size 432x288 with 1 Axes>"
      ]
     },
     "metadata": {
      "needs_background": "light"
     },
     "output_type": "display_data"
    },
    {
     "data": {
      "image/png": "[encoded data removed]",
      "text/plain": [
       "<Figure size 432x288 with 1 Axes>"
      ]
     },
     "metadata": {
      "needs_background": "light"
     },
     "output_type": "display_data"
    }
   ],
   "source": [
    "for i in train_num.columns:\n",
    "    plot.hist(train_num[i])\n",
    "    plot.title(i)\n",
    "    plot.show()"
   ]
  },
  {
   "cell_type": "code",
   "execution_count": 8,
   "id": "existing-executive",
   "metadata": {
    "execution": {
     "iopub.execute_input": "2022-01-12T02:25:39.041868Z",
     "iopub.status.busy": "2022-01-12T02:25:39.040860Z",
     "iopub.status.idle": "2022-01-12T02:25:39.253727Z",
     "shell.execute_reply": "2022-01-12T02:25:39.254326Z",
     "shell.execute_reply.started": "2022-01-12T02:22:19.350252Z"
    },
    "papermill": {
     "duration": 0.257376,
     "end_time": "2022-01-12T02:25:39.254512",
     "exception": false,
     "start_time": "2022-01-12T02:25:38.997136",
     "status": "completed"
    },
    "tags": []
   },
   "outputs": [
    {
     "name": "stdout",
     "output_type": "stream",
     "text": [
      "            Age     SibSp     Parch      Fare\n",
      "Age    1.000000 -0.308247 -0.189119  0.096067\n",
      "SibSp -0.308247  1.000000  0.414838  0.159651\n",
      "Parch -0.189119  0.414838  1.000000  0.216225\n",
      "Fare   0.096067  0.159651  0.216225  1.000000\n"
     ]
    },
    {
     "data": {
      "text/plain": [
       "<AxesSubplot:>"
      ]
     },
     "execution_count": 8,
     "metadata": {},
     "output_type": "execute_result"
    },
    {
     "data": {
      "image/png": "[encoded data removed]",
      "text/plain": [
       "<Figure size 432x288 with 2 Axes>"
      ]
     },
     "metadata": {
      "needs_background": "light"
     },
     "output_type": "display_data"
    }
   ],
   "source": [
    "# look at correlations between the numeric values\n",
    "\n",
    "print(train_num.corr())\n",
    "\n",
    "# can use a heatmap for a better visualization\n",
    "\n",
    "sns.heatmap(train_num.corr())"
   ]
  },
  {
   "cell_type": "code",
   "execution_count": 9,
   "id": "hawaiian-emperor",
   "metadata": {
    "execution": {
     "iopub.execute_input": "2022-01-12T02:25:39.345562Z",
     "iopub.status.busy": "2022-01-12T02:25:39.344555Z",
     "iopub.status.idle": "2022-01-12T02:25:39.385333Z",
     "shell.execute_reply": "2022-01-12T02:25:39.385890Z",
     "shell.execute_reply.started": "2022-01-12T02:22:19.595070Z"
    },
    "papermill": {
     "duration": 0.086575,
     "end_time": "2022-01-12T02:25:39.386094",
     "exception": false,
     "start_time": "2022-01-12T02:25:39.299519",
     "status": "completed"
    },
    "tags": []
   },
   "outputs": [
    {
     "data": {
      "text/html": [
       "<div>\n",
       "<style scoped>\n",
       "    .dataframe tbody tr th:only-of-type {\n",
       "        vertical-align: middle;\n",
       "    }\n",
       "\n",
       "    .dataframe tbody tr th {\n",
       "        vertical-align: top;\n",
       "    }\n",
       "\n",
       "    .dataframe thead th {\n",
       "        text-align: right;\n",
       "    }\n",
       "</style>\n",
       "<table border=\"1\" class=\"dataframe\">\n",
       "  <thead>\n",
       "    <tr style=\"text-align: right;\">\n",
       "      <th></th>\n",
       "      <th>Age</th>\n",
       "      <th>Fare</th>\n",
       "      <th>Parch</th>\n",
       "      <th>SibSp</th>\n",
       "    </tr>\n",
       "    <tr>\n",
       "      <th>Survived</th>\n",
       "      <th></th>\n",
       "      <th></th>\n",
       "      <th></th>\n",
       "      <th></th>\n",
       "    </tr>\n",
       "  </thead>\n",
       "  <tbody>\n",
       "    <tr>\n",
       "      <th>0</th>\n",
       "      <td>30.626179</td>\n",
       "      <td>22.117887</td>\n",
       "      <td>0.329690</td>\n",
       "      <td>0.553734</td>\n",
       "    </tr>\n",
       "    <tr>\n",
       "      <th>1</th>\n",
       "      <td>28.343690</td>\n",
       "      <td>48.395408</td>\n",
       "      <td>0.464912</td>\n",
       "      <td>0.473684</td>\n",
       "    </tr>\n",
       "  </tbody>\n",
       "</table>\n",
       "</div>"
      ],
      "text/plain": [
       "                Age       Fare     Parch     SibSp\n",
       "Survived                                          \n",
       "0         30.626179  22.117887  0.329690  0.553734\n",
       "1         28.343690  48.395408  0.464912  0.473684"
      ]
     },
     "execution_count": 9,
     "metadata": {},
     "output_type": "execute_result"
    }
   ],
   "source": [
    "# make a pivot table to see how survival depends on the varaibles\n",
    "\n",
    "pd.pivot_table(train, index = 'Survived', values = ['Age', 'SibSp', 'Parch', 'Fare'])"
   ]
  },
  {
   "cell_type": "markdown",
   "id": "turkish-narrow",
   "metadata": {
    "papermill": {
     "duration": 0.042055,
     "end_time": "2022-01-12T02:25:39.472626",
     "exception": false,
     "start_time": "2022-01-12T02:25:39.430571",
     "status": "completed"
    },
    "tags": []
   },
   "source": [
    "This pivot table shows the average age, fare, parch, and sibsp of 1: survived, 0: didn't\n",
    "\n",
    "See lower age, higher fare, more parent/child, and less sibling/spouse for survived. Not very significant though."
   ]
  },
  {
   "cell_type": "code",
   "execution_count": 10,
   "id": "recreational-central",
   "metadata": {
    "execution": {
     "iopub.execute_input": "2022-01-12T02:25:39.561876Z",
     "iopub.status.busy": "2022-01-12T02:25:39.560923Z",
     "iopub.status.idle": "2022-01-12T02:25:52.798176Z",
     "shell.execute_reply": "2022-01-12T02:25:52.797289Z",
     "shell.execute_reply.started": "2022-01-12T02:22:19.635737Z"
    },
    "papermill": {
     "duration": 13.283343,
     "end_time": "2022-01-12T02:25:52.798358",
     "exception": false,
     "start_time": "2022-01-12T02:25:39.515015",
     "status": "completed"
    },
    "tags": []
   },
   "outputs": [
    {
     "data": {
      "image/png": "[encoded data removed]",
      "text/plain": [
       "<Figure size 432x288 with 1 Axes>"
      ]
     },
     "metadata": {
      "needs_background": "light"
     },
     "output_type": "display_data"
    },
    {
     "data": {
      "image/png": "[encoded data removed]",
      "text/plain": [
       "<Figure size 432x288 with 1 Axes>"
      ]
     },
     "metadata": {
      "needs_background": "light"
     },
     "output_type": "display_data"
    },
    {
     "data": {
      "image/png": "[encoded data removed]",
      "text/plain": [
       "<Figure size 432x288 with 1 Axes>"
      ]
     },
     "metadata": {
      "needs_background": "light"
     },
     "output_type": "display_data"
    },
    {
     "data": {
      "image/png": "[encoded data removed]",
      "text/plain": [
       "<Figure size 432x288 with 1 Axes>"
      ]
     },
     "metadata": {
      "needs_background": "light"
     },
     "output_type": "display_data"
    },
    {
     "data": {
      "image/png": "[encoded data removed]",
      "text/plain": [
       "<Figure size 432x288 with 1 Axes>"
      ]
     },
     "metadata": {
      "needs_background": "light"
     },
     "output_type": "display_data"
    },
    {
     "data": {
      "image/png": "[encoded data removed]",
      "text/plain": [
       "<Figure size 432x288 with 1 Axes>"
      ]
     },
     "metadata": {
      "needs_background": "light"
     },
     "output_type": "display_data"
    }
   ],
   "source": [
    "# make bar plots for categorical data\n",
    "\n",
    "for i in train_cat.columns:\n",
    "    sns.barplot(x = train_cat[i].value_counts().index,\n",
    "                y = train_cat[i].value_counts()).set_title(i)\n",
    "    plot.show()\n",
    "    "
   ]
  },
  {
   "cell_type": "code",
   "execution_count": 11,
   "id": "reasonable-zambia",
   "metadata": {
    "execution": {
     "iopub.execute_input": "2022-01-12T02:25:52.924895Z",
     "iopub.status.busy": "2022-01-12T02:25:52.915379Z",
     "iopub.status.idle": "2022-01-12T02:25:52.953146Z",
     "shell.execute_reply": "2022-01-12T02:25:52.953923Z",
     "shell.execute_reply.started": "2022-01-12T02:22:31.180552Z"
    },
    "papermill": {
     "duration": 0.104603,
     "end_time": "2022-01-12T02:25:52.954198",
     "exception": false,
     "start_time": "2022-01-12T02:25:52.849595",
     "status": "completed"
    },
    "tags": []
   },
   "outputs": [
    {
     "name": "stdout",
     "output_type": "stream",
     "text": [
      "Pclass      1   2    3\n",
      "Survived              \n",
      "0          80  97  372\n",
      "1         136  87  119\n",
      "\n",
      "Sex       female  male\n",
      "Survived              \n",
      "0             81   468\n",
      "1            233   109\n",
      "\n",
      "Embarked   C   Q    S\n",
      "Survived             \n",
      "0         75  47  427\n",
      "1         93  30  217\n"
     ]
    }
   ],
   "source": [
    "# make more pivot tables to understand survive vs categorical\n",
    "\n",
    "print(pd.pivot_table(train, index = 'Survived', columns = 'Pclass',\n",
    "               values = 'Ticket', aggfunc = 'count'))\n",
    "print()\n",
    "\n",
    "\n",
    "print(pd.pivot_table(train, index = 'Survived', columns = 'Sex',\n",
    "               values = 'Ticket', aggfunc = 'count'))\n",
    "\n",
    "print()\n",
    "\n",
    "print(pd.pivot_table(train, index = 'Survived', columns = 'Embarked',\n",
    "               values = 'Ticket', aggfunc = 'count'))\n",
    "\n"
   ]
  },
  {
   "cell_type": "markdown",
   "id": "sublime-stroke",
   "metadata": {
    "papermill": {
     "duration": 0.048546,
     "end_time": "2022-01-12T02:25:53.053755",
     "exception": false,
     "start_time": "2022-01-12T02:25:53.005209",
     "status": "completed"
    },
    "tags": []
   },
   "source": [
    "# **Feature Engineering**\n",
    "\n",
    "Make the tickets and cabin into less categories in order to fit well into a model, can't have over 100 different cabins types, there must be some sort of general category you can put them into."
   ]
  },
  {
   "cell_type": "markdown",
   "id": "existing-track",
   "metadata": {
    "papermill": {
     "duration": 0.046448,
     "end_time": "2022-01-12T02:25:53.149483",
     "exception": false,
     "start_time": "2022-01-12T02:25:53.103035",
     "status": "completed"
    },
    "tags": []
   },
   "source": [
    "**CABINS**"
   ]
  },
  {
   "cell_type": "code",
   "execution_count": 12,
   "id": "lonely-romance",
   "metadata": {
    "execution": {
     "iopub.execute_input": "2022-01-12T02:25:53.256054Z",
     "iopub.status.busy": "2022-01-12T02:25:53.255146Z",
     "iopub.status.idle": "2022-01-12T02:25:53.260252Z",
     "shell.execute_reply": "2022-01-12T02:25:53.259589Z",
     "shell.execute_reply.started": "2022-01-12T02:22:31.227521Z"
    },
    "papermill": {
     "duration": 0.064172,
     "end_time": "2022-01-12T02:25:53.260395",
     "exception": false,
     "start_time": "2022-01-12T02:25:53.196223",
     "status": "completed"
    },
    "tags": []
   },
   "outputs": [
    {
     "data": {
      "text/plain": [
       "0    687\n",
       "1    180\n",
       "2     16\n",
       "3      6\n",
       "4      2\n",
       "Name: cabin_multiple, dtype: int64"
      ]
     },
     "execution_count": 12,
     "metadata": {},
     "output_type": "execute_result"
    }
   ],
   "source": [
    "# check if people had multiple cabins or just one to see if its even useful as a predictor\n",
    "\n",
    "train['cabin_multiple'] = train.Cabin.apply(lambda x:0 if pd.isna(x) else len(x.split(' ')))\n",
    "\n",
    "train.cabin_multiple.value_counts()\n",
    "\n",
    "# so about 2/3 of the cabin values are NA\n",
    "# and the majority of the rest have one cabin assigned"
   ]
  },
  {
   "cell_type": "code",
   "execution_count": 13,
   "id": "alien-sending",
   "metadata": {
    "execution": {
     "iopub.execute_input": "2022-01-12T02:25:53.362526Z",
     "iopub.status.busy": "2022-01-12T02:25:53.361748Z",
     "iopub.status.idle": "2022-01-12T02:25:53.385600Z",
     "shell.execute_reply": "2022-01-12T02:25:53.386197Z",
     "shell.execute_reply.started": "2022-01-12T02:22:31.238328Z"
    },
    "papermill": {
     "duration": 0.077121,
     "end_time": "2022-01-12T02:25:53.386377",
     "exception": false,
     "start_time": "2022-01-12T02:25:53.309256",
     "status": "completed"
    },
    "tags": []
   },
   "outputs": [
    {
     "data": {
      "text/html": [
       "<div>\n",
       "<style scoped>\n",
       "    .dataframe tbody tr th:only-of-type {\n",
       "        vertical-align: middle;\n",
       "    }\n",
       "\n",
       "    .dataframe tbody tr th {\n",
       "        vertical-align: top;\n",
       "    }\n",
       "\n",
       "    .dataframe thead th {\n",
       "        text-align: right;\n",
       "    }\n",
       "</style>\n",
       "<table border=\"1\" class=\"dataframe\">\n",
       "  <thead>\n",
       "    <tr style=\"text-align: right;\">\n",
       "      <th>cabin_multiple</th>\n",
       "      <th>0</th>\n",
       "      <th>1</th>\n",
       "      <th>2</th>\n",
       "      <th>3</th>\n",
       "      <th>4</th>\n",
       "    </tr>\n",
       "    <tr>\n",
       "      <th>Survived</th>\n",
       "      <th></th>\n",
       "      <th></th>\n",
       "      <th></th>\n",
       "      <th></th>\n",
       "      <th></th>\n",
       "    </tr>\n",
       "  </thead>\n",
       "  <tbody>\n",
       "    <tr>\n",
       "      <th>0</th>\n",
       "      <td>481.0</td>\n",
       "      <td>58.0</td>\n",
       "      <td>7.0</td>\n",
       "      <td>3.0</td>\n",
       "      <td>NaN</td>\n",
       "    </tr>\n",
       "    <tr>\n",
       "      <th>1</th>\n",
       "      <td>206.0</td>\n",
       "      <td>122.0</td>\n",
       "      <td>9.0</td>\n",
       "      <td>3.0</td>\n",
       "      <td>2.0</td>\n",
       "    </tr>\n",
       "  </tbody>\n",
       "</table>\n",
       "</div>"
      ],
      "text/plain": [
       "cabin_multiple      0      1    2    3    4\n",
       "Survived                                   \n",
       "0               481.0   58.0  7.0  3.0  NaN\n",
       "1               206.0  122.0  9.0  3.0  2.0"
      ]
     },
     "execution_count": 13,
     "metadata": {},
     "output_type": "execute_result"
    }
   ],
   "source": [
    "# look at a pivot table of the new column\n",
    "pd.pivot_table(train, index = 'Survived', columns = 'cabin_multiple', values = 'Ticket',\n",
    "              aggfunc = 'count')"
   ]
  },
  {
   "cell_type": "code",
   "execution_count": 14,
   "id": "charged-oxide",
   "metadata": {
    "execution": {
     "iopub.execute_input": "2022-01-12T02:25:53.488790Z",
     "iopub.status.busy": "2022-01-12T02:25:53.488120Z",
     "iopub.status.idle": "2022-01-12T02:25:53.498609Z",
     "shell.execute_reply": "2022-01-12T02:25:53.497885Z",
     "shell.execute_reply.started": "2022-01-12T02:22:31.267088Z"
    },
    "papermill": {
     "duration": 0.062792,
     "end_time": "2022-01-12T02:25:53.498760",
     "exception": false,
     "start_time": "2022-01-12T02:25:53.435968",
     "status": "completed"
    },
    "tags": []
   },
   "outputs": [
    {
     "data": {
      "text/plain": [
       "n    687\n",
       "C     59\n",
       "B     47\n",
       "D     33\n",
       "E     32\n",
       "A     15\n",
       "F     13\n",
       "G      4\n",
       "T      1\n",
       "Name: cabin_type, dtype: int64"
      ]
     },
     "execution_count": 14,
     "metadata": {},
     "output_type": "execute_result"
    }
   ],
   "source": [
    "# now split cabins that start with same letter. Because they should be close to one\n",
    "# another and have similar qualities.\n",
    "# n is first letter of none type\n",
    "\n",
    "train['cabin_type'] = train.Cabin.apply(lambda x: str(x)[0])\n",
    "train.cabin_type.value_counts()"
   ]
  },
  {
   "cell_type": "code",
   "execution_count": 15,
   "id": "julian-pattern",
   "metadata": {
    "execution": {
     "iopub.execute_input": "2022-01-12T02:25:53.601188Z",
     "iopub.status.busy": "2022-01-12T02:25:53.600459Z",
     "iopub.status.idle": "2022-01-12T02:25:53.627992Z",
     "shell.execute_reply": "2022-01-12T02:25:53.628592Z",
     "shell.execute_reply.started": "2022-01-12T02:22:31.278474Z"
    },
    "papermill": {
     "duration": 0.08095,
     "end_time": "2022-01-12T02:25:53.628775",
     "exception": false,
     "start_time": "2022-01-12T02:25:53.547825",
     "status": "completed"
    },
    "tags": []
   },
   "outputs": [
    {
     "data": {
      "text/html": [
       "<div>\n",
       "<style scoped>\n",
       "    .dataframe tbody tr th:only-of-type {\n",
       "        vertical-align: middle;\n",
       "    }\n",
       "\n",
       "    .dataframe tbody tr th {\n",
       "        vertical-align: top;\n",
       "    }\n",
       "\n",
       "    .dataframe thead th {\n",
       "        text-align: right;\n",
       "    }\n",
       "</style>\n",
       "<table border=\"1\" class=\"dataframe\">\n",
       "  <thead>\n",
       "    <tr style=\"text-align: right;\">\n",
       "      <th>cabin_type</th>\n",
       "      <th>A</th>\n",
       "      <th>B</th>\n",
       "      <th>C</th>\n",
       "      <th>D</th>\n",
       "      <th>E</th>\n",
       "      <th>F</th>\n",
       "      <th>G</th>\n",
       "      <th>T</th>\n",
       "      <th>n</th>\n",
       "    </tr>\n",
       "    <tr>\n",
       "      <th>Survived</th>\n",
       "      <th></th>\n",
       "      <th></th>\n",
       "      <th></th>\n",
       "      <th></th>\n",
       "      <th></th>\n",
       "      <th></th>\n",
       "      <th></th>\n",
       "      <th></th>\n",
       "      <th></th>\n",
       "    </tr>\n",
       "  </thead>\n",
       "  <tbody>\n",
       "    <tr>\n",
       "      <th>0</th>\n",
       "      <td>8.0</td>\n",
       "      <td>12.0</td>\n",
       "      <td>24.0</td>\n",
       "      <td>8.0</td>\n",
       "      <td>8.0</td>\n",
       "      <td>5.0</td>\n",
       "      <td>2.0</td>\n",
       "      <td>1.0</td>\n",
       "      <td>481.0</td>\n",
       "    </tr>\n",
       "    <tr>\n",
       "      <th>1</th>\n",
       "      <td>7.0</td>\n",
       "      <td>35.0</td>\n",
       "      <td>35.0</td>\n",
       "      <td>25.0</td>\n",
       "      <td>24.0</td>\n",
       "      <td>8.0</td>\n",
       "      <td>2.0</td>\n",
       "      <td>NaN</td>\n",
       "      <td>206.0</td>\n",
       "    </tr>\n",
       "  </tbody>\n",
       "</table>\n",
       "</div>"
      ],
      "text/plain": [
       "cabin_type    A     B     C     D     E    F    G    T      n\n",
       "Survived                                                     \n",
       "0           8.0  12.0  24.0   8.0   8.0  5.0  2.0  1.0  481.0\n",
       "1           7.0  35.0  35.0  25.0  24.0  8.0  2.0  NaN  206.0"
      ]
     },
     "execution_count": 15,
     "metadata": {},
     "output_type": "execute_result"
    }
   ],
   "source": [
    "# keeping Nan as a feature because it might help\n",
    "pd.pivot_table(train, index = 'Survived', columns = 'cabin_type', values = 'Ticket',\n",
    "              aggfunc = 'count')\n",
    "\n",
    "# survival rate for people with a defined cabin was much higher than those without"
   ]
  },
  {
   "cell_type": "markdown",
   "id": "parliamentary-truth",
   "metadata": {
    "papermill": {
     "duration": 0.049722,
     "end_time": "2022-01-12T02:25:53.730737",
     "exception": false,
     "start_time": "2022-01-12T02:25:53.681015",
     "status": "completed"
    },
    "tags": []
   },
   "source": [
    "**TICKETS**\n",
    "\n",
    "split tickets into different groups like we did for cabins"
   ]
  },
  {
   "cell_type": "code",
   "execution_count": 16,
   "id": "recreational-monte",
   "metadata": {
    "execution": {
     "iopub.execute_input": "2022-01-12T02:25:53.836765Z",
     "iopub.status.busy": "2022-01-12T02:25:53.835703Z",
     "iopub.status.idle": "2022-01-12T02:25:53.840332Z",
     "shell.execute_reply": "2022-01-12T02:25:53.840912Z",
     "shell.execute_reply.started": "2022-01-12T02:22:31.310845Z"
    },
    "papermill": {
     "duration": 0.061926,
     "end_time": "2022-01-12T02:25:53.841120",
     "exception": false,
     "start_time": "2022-01-12T02:25:53.779194",
     "status": "completed"
    },
    "tags": []
   },
   "outputs": [],
   "source": [
    "# split into numeric vs non-numeic\n",
    "# isnumeric() returns True if all the characters are numbers\n",
    "\n",
    "train['ticket_numeric'] = train.Ticket.apply(lambda x: 1 if x.isnumeric() else 0)\n",
    "train['ticket_letters'] = train.Ticket.apply(lambda x: ''.join(x.split(' ')[:-1])\n",
    "                                             .replace('.','').replace('/','').lower()\n",
    "                                             if len(x.split(' ')[:-1]) > 0 else 0)\n"
   ]
  },
  {
   "cell_type": "code",
   "execution_count": 17,
   "id": "velvet-xerox",
   "metadata": {
    "execution": {
     "iopub.execute_input": "2022-01-12T02:25:53.943937Z",
     "iopub.status.busy": "2022-01-12T02:25:53.943286Z",
     "iopub.status.idle": "2022-01-12T02:25:53.950928Z",
     "shell.execute_reply": "2022-01-12T02:25:53.951430Z",
     "shell.execute_reply.started": "2022-01-12T02:22:31.322635Z"
    },
    "papermill": {
     "duration": 0.060205,
     "end_time": "2022-01-12T02:25:53.951612",
     "exception": false,
     "start_time": "2022-01-12T02:25:53.891407",
     "status": "completed"
    },
    "tags": []
   },
   "outputs": [
    {
     "data": {
      "text/plain": [
       "0            665\n",
       "pc            60\n",
       "ca            41\n",
       "a5            21\n",
       "stono2        18\n",
       "sotonoq       15\n",
       "scparis       11\n",
       "wc            10\n",
       "a4             7\n",
       "soc            6\n",
       "fcc            5\n",
       "c              5\n",
       "wep            3\n",
       "sopp           3\n",
       "pp             3\n",
       "ppp            2\n",
       "scah           2\n",
       "swpp           2\n",
       "sotono2        2\n",
       "fa             1\n",
       "scahbasle      1\n",
       "sop            1\n",
       "as             1\n",
       "sc             1\n",
       "casoton        1\n",
       "scow           1\n",
       "fc             1\n",
       "sp             1\n",
       "sca4           1\n",
       "Name: ticket_letters, dtype: int64"
      ]
     },
     "execution_count": 17,
     "metadata": {},
     "output_type": "execute_result"
    }
   ],
   "source": [
    "train['ticket_letters'].value_counts()\n",
    "# nothing significant enough to worry about (no subclasses in non-numeric)"
   ]
  },
  {
   "cell_type": "code",
   "execution_count": 18,
   "id": "unusual-japanese",
   "metadata": {
    "execution": {
     "iopub.execute_input": "2022-01-12T02:25:54.059802Z",
     "iopub.status.busy": "2022-01-12T02:25:54.059140Z",
     "iopub.status.idle": "2022-01-12T02:25:54.084269Z",
     "shell.execute_reply": "2022-01-12T02:25:54.084833Z",
     "shell.execute_reply.started": "2022-01-12T02:22:31.342636Z"
    },
    "papermill": {
     "duration": 0.081597,
     "end_time": "2022-01-12T02:25:54.085034",
     "exception": false,
     "start_time": "2022-01-12T02:25:54.003437",
     "status": "completed"
    },
    "tags": []
   },
   "outputs": [
    {
     "data": {
      "text/html": [
       "<div>\n",
       "<style scoped>\n",
       "    .dataframe tbody tr th:only-of-type {\n",
       "        vertical-align: middle;\n",
       "    }\n",
       "\n",
       "    .dataframe tbody tr th {\n",
       "        vertical-align: top;\n",
       "    }\n",
       "\n",
       "    .dataframe thead th {\n",
       "        text-align: right;\n",
       "    }\n",
       "</style>\n",
       "<table border=\"1\" class=\"dataframe\">\n",
       "  <thead>\n",
       "    <tr style=\"text-align: right;\">\n",
       "      <th>ticket_numeric</th>\n",
       "      <th>0</th>\n",
       "      <th>1</th>\n",
       "    </tr>\n",
       "    <tr>\n",
       "      <th>Survived</th>\n",
       "      <th></th>\n",
       "      <th></th>\n",
       "    </tr>\n",
       "  </thead>\n",
       "  <tbody>\n",
       "    <tr>\n",
       "      <th>0</th>\n",
       "      <td>142</td>\n",
       "      <td>407</td>\n",
       "    </tr>\n",
       "    <tr>\n",
       "      <th>1</th>\n",
       "      <td>88</td>\n",
       "      <td>254</td>\n",
       "    </tr>\n",
       "  </tbody>\n",
       "</table>\n",
       "</div>"
      ],
      "text/plain": [
       "ticket_numeric    0    1\n",
       "Survived                \n",
       "0               142  407\n",
       "1                88  254"
      ]
     },
     "execution_count": 18,
     "metadata": {},
     "output_type": "execute_result"
    }
   ],
   "source": [
    "pd.pivot_table(train, index = 'Survived', columns = 'ticket_numeric', values = 'Ticket',\n",
    "               aggfunc = 'count')\n",
    "# 0 if non-numeric\n",
    "# ratios are pretty similar so this doesn't help"
   ]
  },
  {
   "cell_type": "code",
   "execution_count": 19,
   "id": "muslim-chaos",
   "metadata": {
    "execution": {
     "iopub.execute_input": "2022-01-12T02:25:54.188186Z",
     "iopub.status.busy": "2022-01-12T02:25:54.187506Z",
     "iopub.status.idle": "2022-01-12T02:25:54.232351Z",
     "shell.execute_reply": "2022-01-12T02:25:54.231643Z",
     "shell.execute_reply.started": "2022-01-12T02:22:31.365805Z"
    },
    "papermill": {
     "duration": 0.097216,
     "end_time": "2022-01-12T02:25:54.232510",
     "exception": false,
     "start_time": "2022-01-12T02:25:54.135294",
     "status": "completed"
    },
    "tags": []
   },
   "outputs": [
    {
     "data": {
      "text/html": [
       "<div>\n",
       "<style scoped>\n",
       "    .dataframe tbody tr th:only-of-type {\n",
       "        vertical-align: middle;\n",
       "    }\n",
       "\n",
       "    .dataframe tbody tr th {\n",
       "        vertical-align: top;\n",
       "    }\n",
       "\n",
       "    .dataframe thead th {\n",
       "        text-align: right;\n",
       "    }\n",
       "</style>\n",
       "<table border=\"1\" class=\"dataframe\">\n",
       "  <thead>\n",
       "    <tr style=\"text-align: right;\">\n",
       "      <th>ticket_letters</th>\n",
       "      <th>0</th>\n",
       "      <th>a4</th>\n",
       "      <th>a5</th>\n",
       "      <th>as</th>\n",
       "      <th>c</th>\n",
       "      <th>ca</th>\n",
       "      <th>casoton</th>\n",
       "      <th>fa</th>\n",
       "      <th>fc</th>\n",
       "      <th>fcc</th>\n",
       "      <th>pc</th>\n",
       "      <th>pp</th>\n",
       "      <th>ppp</th>\n",
       "      <th>sc</th>\n",
       "      <th>sca4</th>\n",
       "      <th>scah</th>\n",
       "      <th>scahbasle</th>\n",
       "      <th>scow</th>\n",
       "      <th>scparis</th>\n",
       "      <th>soc</th>\n",
       "      <th>sop</th>\n",
       "      <th>sopp</th>\n",
       "      <th>sotono2</th>\n",
       "      <th>sotonoq</th>\n",
       "      <th>sp</th>\n",
       "      <th>stono2</th>\n",
       "      <th>swpp</th>\n",
       "      <th>wc</th>\n",
       "      <th>wep</th>\n",
       "    </tr>\n",
       "    <tr>\n",
       "      <th>Survived</th>\n",
       "      <th></th>\n",
       "      <th></th>\n",
       "      <th></th>\n",
       "      <th></th>\n",
       "      <th></th>\n",
       "      <th></th>\n",
       "      <th></th>\n",
       "      <th></th>\n",
       "      <th></th>\n",
       "      <th></th>\n",
       "      <th></th>\n",
       "      <th></th>\n",
       "      <th></th>\n",
       "      <th></th>\n",
       "      <th></th>\n",
       "      <th></th>\n",
       "      <th></th>\n",
       "      <th></th>\n",
       "      <th></th>\n",
       "      <th></th>\n",
       "      <th></th>\n",
       "      <th></th>\n",
       "      <th></th>\n",
       "      <th></th>\n",
       "      <th></th>\n",
       "      <th></th>\n",
       "      <th></th>\n",
       "      <th></th>\n",
       "      <th></th>\n",
       "    </tr>\n",
       "  </thead>\n",
       "  <tbody>\n",
       "    <tr>\n",
       "      <th>0</th>\n",
       "      <td>410.0</td>\n",
       "      <td>7.0</td>\n",
       "      <td>19.0</td>\n",
       "      <td>1.0</td>\n",
       "      <td>3.0</td>\n",
       "      <td>27.0</td>\n",
       "      <td>1.0</td>\n",
       "      <td>1.0</td>\n",
       "      <td>1.0</td>\n",
       "      <td>1.0</td>\n",
       "      <td>21.0</td>\n",
       "      <td>1.0</td>\n",
       "      <td>1.0</td>\n",
       "      <td>NaN</td>\n",
       "      <td>1.0</td>\n",
       "      <td>1.0</td>\n",
       "      <td>NaN</td>\n",
       "      <td>1.0</td>\n",
       "      <td>6.0</td>\n",
       "      <td>5.0</td>\n",
       "      <td>1.0</td>\n",
       "      <td>3.0</td>\n",
       "      <td>2.0</td>\n",
       "      <td>13.0</td>\n",
       "      <td>1.0</td>\n",
       "      <td>10.0</td>\n",
       "      <td>NaN</td>\n",
       "      <td>9.0</td>\n",
       "      <td>2.0</td>\n",
       "    </tr>\n",
       "    <tr>\n",
       "      <th>1</th>\n",
       "      <td>255.0</td>\n",
       "      <td>NaN</td>\n",
       "      <td>2.0</td>\n",
       "      <td>NaN</td>\n",
       "      <td>2.0</td>\n",
       "      <td>14.0</td>\n",
       "      <td>NaN</td>\n",
       "      <td>NaN</td>\n",
       "      <td>NaN</td>\n",
       "      <td>4.0</td>\n",
       "      <td>39.0</td>\n",
       "      <td>2.0</td>\n",
       "      <td>1.0</td>\n",
       "      <td>1.0</td>\n",
       "      <td>NaN</td>\n",
       "      <td>1.0</td>\n",
       "      <td>1.0</td>\n",
       "      <td>NaN</td>\n",
       "      <td>5.0</td>\n",
       "      <td>1.0</td>\n",
       "      <td>NaN</td>\n",
       "      <td>NaN</td>\n",
       "      <td>NaN</td>\n",
       "      <td>2.0</td>\n",
       "      <td>NaN</td>\n",
       "      <td>8.0</td>\n",
       "      <td>2.0</td>\n",
       "      <td>1.0</td>\n",
       "      <td>1.0</td>\n",
       "    </tr>\n",
       "  </tbody>\n",
       "</table>\n",
       "</div>"
      ],
      "text/plain": [
       "ticket_letters      0   a4    a5   as    c    ca  casoton   fa   fc  fcc  \\\n",
       "Survived                                                                   \n",
       "0               410.0  7.0  19.0  1.0  3.0  27.0      1.0  1.0  1.0  1.0   \n",
       "1               255.0  NaN   2.0  NaN  2.0  14.0      NaN  NaN  NaN  4.0   \n",
       "\n",
       "ticket_letters    pc   pp  ppp   sc  sca4  scah  scahbasle  scow  scparis  \\\n",
       "Survived                                                                    \n",
       "0               21.0  1.0  1.0  NaN   1.0   1.0        NaN   1.0      6.0   \n",
       "1               39.0  2.0  1.0  1.0   NaN   1.0        1.0   NaN      5.0   \n",
       "\n",
       "ticket_letters  soc  sop  sopp  sotono2  sotonoq   sp  stono2  swpp   wc  wep  \n",
       "Survived                                                                       \n",
       "0               5.0  1.0   3.0      2.0     13.0  1.0    10.0   NaN  9.0  2.0  \n",
       "1               1.0  NaN   NaN      NaN      2.0  NaN     8.0   2.0  1.0  1.0  "
      ]
     },
     "execution_count": 19,
     "metadata": {},
     "output_type": "execute_result"
    }
   ],
   "source": [
    "pd.set_option('max_columns',None)\n",
    "pd.pivot_table(train, index = 'Survived', columns = 'ticket_letters', values = 'Ticket',\n",
    "              aggfunc = 'count')"
   ]
  },
  {
   "cell_type": "markdown",
   "id": "visible-market",
   "metadata": {
    "papermill": {
     "duration": 0.051368,
     "end_time": "2022-01-12T02:25:54.336294",
     "exception": false,
     "start_time": "2022-01-12T02:25:54.284926",
     "status": "completed"
    },
    "tags": []
   },
   "source": [
    "**Person's Title**\n",
    "Mr, Mrs, etc"
   ]
  },
  {
   "cell_type": "code",
   "execution_count": 20,
   "id": "rental-durham",
   "metadata": {
    "execution": {
     "iopub.execute_input": "2022-01-12T02:25:54.450193Z",
     "iopub.status.busy": "2022-01-12T02:25:54.449455Z",
     "iopub.status.idle": "2022-01-12T02:25:54.453634Z",
     "shell.execute_reply": "2022-01-12T02:25:54.452919Z",
     "shell.execute_reply.started": "2022-01-12T02:22:31.406355Z"
    },
    "papermill": {
     "duration": 0.063757,
     "end_time": "2022-01-12T02:25:54.453774",
     "exception": false,
     "start_time": "2022-01-12T02:25:54.390017",
     "status": "completed"
    },
    "tags": []
   },
   "outputs": [
    {
     "data": {
      "text/plain": [
       "0                              Braund, Mr. Owen Harris\n",
       "1    Cumings, Mrs. John Bradley (Florence Briggs Th...\n",
       "2                               Heikkinen, Miss. Laina\n",
       "3         Futrelle, Mrs. Jacques Heath (Lily May Peel)\n",
       "4                             Allen, Mr. William Henry\n",
       "Name: Name, dtype: object"
      ]
     },
     "execution_count": 20,
     "metadata": {},
     "output_type": "execute_result"
    }
   ],
   "source": [
    "# look at how dats is formatted\n",
    "train.Name.head(5)"
   ]
  },
  {
   "cell_type": "code",
   "execution_count": 21,
   "id": "technical-starter",
   "metadata": {
    "execution": {
     "iopub.execute_input": "2022-01-12T02:25:54.558466Z",
     "iopub.status.busy": "2022-01-12T02:25:54.557693Z",
     "iopub.status.idle": "2022-01-12T02:25:54.568048Z",
     "shell.execute_reply": "2022-01-12T02:25:54.568577Z",
     "shell.execute_reply.started": "2022-01-12T02:22:31.414695Z"
    },
    "papermill": {
     "duration": 0.064282,
     "end_time": "2022-01-12T02:25:54.568755",
     "exception": false,
     "start_time": "2022-01-12T02:25:54.504473",
     "status": "completed"
    },
    "tags": []
   },
   "outputs": [
    {
     "data": {
      "text/plain": [
       "Mr              517\n",
       "Miss            182\n",
       "Mrs             125\n",
       "Master           40\n",
       "Dr                7\n",
       "Rev               6\n",
       "Mlle              2\n",
       "Major             2\n",
       "Col               2\n",
       "Lady              1\n",
       "Jonkheer          1\n",
       "Ms                1\n",
       "Capt              1\n",
       "Sir               1\n",
       "Mme               1\n",
       "the Countess      1\n",
       "Don               1\n",
       "Name: name_title, dtype: int64"
      ]
     },
     "execution_count": 21,
     "metadata": {},
     "output_type": "execute_result"
    }
   ],
   "source": [
    "train['name_title'] = train.Name.apply(lambda x: x.split(',')[1].split('.')[0].strip())\n",
    "train.name_title.value_counts()\n"
   ]
  },
  {
   "cell_type": "code",
   "execution_count": 22,
   "id": "editorial-abuse",
   "metadata": {
    "execution": {
     "iopub.execute_input": "2022-01-12T02:25:54.676210Z",
     "iopub.status.busy": "2022-01-12T02:25:54.675471Z",
     "iopub.status.idle": "2022-01-12T02:25:54.709669Z",
     "shell.execute_reply": "2022-01-12T02:25:54.710227Z",
     "shell.execute_reply.started": "2022-01-12T02:22:31.433520Z"
    },
    "papermill": {
     "duration": 0.089213,
     "end_time": "2022-01-12T02:25:54.710416",
     "exception": false,
     "start_time": "2022-01-12T02:25:54.621203",
     "status": "completed"
    },
    "tags": []
   },
   "outputs": [
    {
     "data": {
      "text/html": [
       "<div>\n",
       "<style scoped>\n",
       "    .dataframe tbody tr th:only-of-type {\n",
       "        vertical-align: middle;\n",
       "    }\n",
       "\n",
       "    .dataframe tbody tr th {\n",
       "        vertical-align: top;\n",
       "    }\n",
       "\n",
       "    .dataframe thead th {\n",
       "        text-align: right;\n",
       "    }\n",
       "</style>\n",
       "<table border=\"1\" class=\"dataframe\">\n",
       "  <thead>\n",
       "    <tr style=\"text-align: right;\">\n",
       "      <th>name_title</th>\n",
       "      <th>Capt</th>\n",
       "      <th>Col</th>\n",
       "      <th>Don</th>\n",
       "      <th>Dr</th>\n",
       "      <th>Jonkheer</th>\n",
       "      <th>Lady</th>\n",
       "      <th>Major</th>\n",
       "      <th>Master</th>\n",
       "      <th>Miss</th>\n",
       "      <th>Mlle</th>\n",
       "      <th>Mme</th>\n",
       "      <th>Mr</th>\n",
       "      <th>Mrs</th>\n",
       "      <th>Ms</th>\n",
       "      <th>Rev</th>\n",
       "      <th>Sir</th>\n",
       "      <th>the Countess</th>\n",
       "    </tr>\n",
       "    <tr>\n",
       "      <th>Survived</th>\n",
       "      <th></th>\n",
       "      <th></th>\n",
       "      <th></th>\n",
       "      <th></th>\n",
       "      <th></th>\n",
       "      <th></th>\n",
       "      <th></th>\n",
       "      <th></th>\n",
       "      <th></th>\n",
       "      <th></th>\n",
       "      <th></th>\n",
       "      <th></th>\n",
       "      <th></th>\n",
       "      <th></th>\n",
       "      <th></th>\n",
       "      <th></th>\n",
       "      <th></th>\n",
       "    </tr>\n",
       "  </thead>\n",
       "  <tbody>\n",
       "    <tr>\n",
       "      <th>0</th>\n",
       "      <td>1.0</td>\n",
       "      <td>1.0</td>\n",
       "      <td>1.0</td>\n",
       "      <td>4.0</td>\n",
       "      <td>1.0</td>\n",
       "      <td>NaN</td>\n",
       "      <td>1.0</td>\n",
       "      <td>17.0</td>\n",
       "      <td>55.0</td>\n",
       "      <td>NaN</td>\n",
       "      <td>NaN</td>\n",
       "      <td>436.0</td>\n",
       "      <td>26.0</td>\n",
       "      <td>NaN</td>\n",
       "      <td>6.0</td>\n",
       "      <td>NaN</td>\n",
       "      <td>NaN</td>\n",
       "    </tr>\n",
       "    <tr>\n",
       "      <th>1</th>\n",
       "      <td>NaN</td>\n",
       "      <td>1.0</td>\n",
       "      <td>NaN</td>\n",
       "      <td>3.0</td>\n",
       "      <td>NaN</td>\n",
       "      <td>1.0</td>\n",
       "      <td>1.0</td>\n",
       "      <td>23.0</td>\n",
       "      <td>127.0</td>\n",
       "      <td>2.0</td>\n",
       "      <td>1.0</td>\n",
       "      <td>81.0</td>\n",
       "      <td>99.0</td>\n",
       "      <td>1.0</td>\n",
       "      <td>NaN</td>\n",
       "      <td>1.0</td>\n",
       "      <td>1.0</td>\n",
       "    </tr>\n",
       "  </tbody>\n",
       "</table>\n",
       "</div>"
      ],
      "text/plain": [
       "name_title  Capt  Col  Don   Dr  Jonkheer  Lady  Major  Master   Miss  Mlle  \\\n",
       "Survived                                                                      \n",
       "0            1.0  1.0  1.0  4.0       1.0   NaN    1.0    17.0   55.0   NaN   \n",
       "1            NaN  1.0  NaN  3.0       NaN   1.0    1.0    23.0  127.0   2.0   \n",
       "\n",
       "name_title  Mme     Mr   Mrs   Ms  Rev  Sir  the Countess  \n",
       "Survived                                                   \n",
       "0           NaN  436.0  26.0  NaN  6.0  NaN           NaN  \n",
       "1           1.0   81.0  99.0  1.0  NaN  1.0           1.0  "
      ]
     },
     "execution_count": 22,
     "metadata": {},
     "output_type": "execute_result"
    }
   ],
   "source": [
    "pd.pivot_table(train, index = 'Survived', columns = 'name_title', values = 'Ticket',\n",
    "              aggfunc = 'count')\n",
    "\n",
    "# more Mrs and Miss survived than Mr"
   ]
  },
  {
   "cell_type": "markdown",
   "id": "emotional-bulgaria",
   "metadata": {
    "papermill": {
     "duration": 0.052393,
     "end_time": "2022-01-12T02:25:54.813978",
     "exception": false,
     "start_time": "2022-01-12T02:25:54.761585",
     "status": "completed"
    },
    "tags": []
   },
   "source": [
    "# ** Data Preprocessing**\n",
    "drop null values ( 2 from embarked),\n",
    "\n",
    "include reasonable amount of data,featured data, etc\n",
    "\n",
    "use pandas encoder to match train and test data\n",
    "\n",
    "fill in age and fare NA with median\n",
    "\n",
    "normalize some data (fare)\n",
    "\n",
    "scale data (0-1) with standard scaler\n"
   ]
  },
  {
   "cell_type": "code",
   "execution_count": 23,
   "id": "infectious-complement",
   "metadata": {
    "execution": {
     "iopub.execute_input": "2022-01-12T02:25:54.923688Z",
     "iopub.status.busy": "2022-01-12T02:25:54.922966Z",
     "iopub.status.idle": "2022-01-12T02:25:54.942572Z",
     "shell.execute_reply": "2022-01-12T02:25:54.941840Z",
     "shell.execute_reply.started": "2022-01-12T02:22:31.473361Z"
    },
    "papermill": {
     "duration": 0.07468,
     "end_time": "2022-01-12T02:25:54.942718",
     "exception": false,
     "start_time": "2022-01-12T02:25:54.868038",
     "status": "completed"
    },
    "tags": []
   },
   "outputs": [],
   "source": [
    "# create all catergorical data we did above for both training and test sets\n",
    "all_data['cabin_multiple'] = all_data.Cabin.apply(lambda x:0 if pd.isna(x) else len(x.split(' ')))\n",
    "all_data['cabin_type'] = all_data.Cabin.apply(lambda x: str(x)[0])\n",
    "all_data['ticket_numeric'] = all_data.Ticket.apply(lambda x: 1 if x.isnumeric() else 0)\n",
    "all_data['ticket_letters'] = all_data.Ticket.apply(lambda x: ''.join(x.split(' ')[:-1])\n",
    "                                             .replace('.','').replace('/','').lower()\n",
    "                                             if len(x.split(' ')[:-1]) > 0 else 0)\n",
    "all_data['name_title'] = all_data.Name.apply(lambda x: x.split(',')[1].split('.')[0].strip())"
   ]
  },
  {
   "cell_type": "code",
   "execution_count": 24,
   "id": "current-dominican",
   "metadata": {
    "execution": {
     "iopub.execute_input": "2022-01-12T02:25:55.058801Z",
     "iopub.status.busy": "2022-01-12T02:25:55.057723Z",
     "iopub.status.idle": "2022-01-12T02:25:55.062476Z",
     "shell.execute_reply": "2022-01-12T02:25:55.061922Z",
     "shell.execute_reply.started": "2022-01-12T02:22:31.492918Z"
    },
    "papermill": {
     "duration": 0.067535,
     "end_time": "2022-01-12T02:25:55.062621",
     "exception": false,
     "start_time": "2022-01-12T02:25:54.995086",
     "status": "completed"
    },
    "tags": []
   },
   "outputs": [],
   "source": [
    "# input nulls for continuous data\n",
    "\n",
    "all_data.Age = all_data.Age.fillna(all_data.Age.median())\n",
    "all_data.Fare = all_data.Fare.fillna(all_data.Fare.median())"
   ]
  },
  {
   "cell_type": "code",
   "execution_count": 25,
   "id": "intensive-investigation",
   "metadata": {
    "execution": {
     "iopub.execute_input": "2022-01-12T02:25:55.179432Z",
     "iopub.status.busy": "2022-01-12T02:25:55.178434Z",
     "iopub.status.idle": "2022-01-12T02:25:55.186586Z",
     "shell.execute_reply": "2022-01-12T02:25:55.186023Z",
     "shell.execute_reply.started": "2022-01-12T02:22:31.504268Z"
    },
    "papermill": {
     "duration": 0.07034,
     "end_time": "2022-01-12T02:25:55.186743",
     "exception": false,
     "start_time": "2022-01-12T02:25:55.116403",
     "status": "completed"
    },
    "tags": []
   },
   "outputs": [],
   "source": [
    "# drop null rows in 'Embarked'\n",
    "# only two in training data\n",
    "\n",
    "\n",
    "all_data.dropna(subset=['Embarked'],inplace = True)"
   ]
  },
  {
   "cell_type": "code",
   "execution_count": 26,
   "id": "martial-experience",
   "metadata": {
    "execution": {
     "iopub.execute_input": "2022-01-12T02:25:55.299004Z",
     "iopub.status.busy": "2022-01-12T02:25:55.298148Z",
     "iopub.status.idle": "2022-01-12T02:25:55.462840Z",
     "shell.execute_reply": "2022-01-12T02:25:55.462299Z",
     "shell.execute_reply.started": "2022-01-12T02:22:31.519273Z"
    },
    "papermill": {
     "duration": 0.225205,
     "end_time": "2022-01-12T02:25:55.463019",
     "exception": false,
     "start_time": "2022-01-12T02:25:55.237814",
     "status": "completed"
    },
    "tags": []
   },
   "outputs": [
    {
     "data": {
      "text/plain": [
       "<AxesSubplot:>"
      ]
     },
     "execution_count": 26,
     "metadata": {},
     "output_type": "execute_result"
    },
    {
     "data": {
      "image/png": "[encoded data removed]",
      "text/plain": [
       "<Figure size 432x288 with 1 Axes>"
      ]
     },
     "metadata": {
      "needs_background": "light"
     },
     "output_type": "display_data"
    }
   ],
   "source": [
    "# transform data with log-norm\n",
    "\n",
    "# sibsp # doesn't make it look more normal\n",
    "all_data['norm_sibsp'] = np.log(all_data.SibSp+1)\n",
    "all_data['norm_sibsp'].hist()"
   ]
  },
  {
   "cell_type": "code",
   "execution_count": 27,
   "id": "certified-clearing",
   "metadata": {
    "execution": {
     "iopub.execute_input": "2022-01-12T02:25:55.575032Z",
     "iopub.status.busy": "2022-01-12T02:25:55.574252Z",
     "iopub.status.idle": "2022-01-12T02:25:55.730610Z",
     "shell.execute_reply": "2022-01-12T02:25:55.731152Z",
     "shell.execute_reply.started": "2022-01-12T02:22:31.670799Z"
    },
    "papermill": {
     "duration": 0.21401,
     "end_time": "2022-01-12T02:25:55.731338",
     "exception": false,
     "start_time": "2022-01-12T02:25:55.517328",
     "status": "completed"
    },
    "tags": []
   },
   "outputs": [
    {
     "data": {
      "text/plain": [
       "<AxesSubplot:>"
      ]
     },
     "execution_count": 27,
     "metadata": {},
     "output_type": "execute_result"
    },
    {
     "data": {
      "image/png": "[encoded data removed]",
      "text/plain": [
       "<Figure size 432x288 with 1 Axes>"
      ]
     },
     "metadata": {
      "needs_background": "light"
     },
     "output_type": "display_data"
    }
   ],
   "source": [
    "# far\n",
    "all_data['normal_fare'] = np.log(all_data.Fare+1)\n",
    "all_data.normal_fare.hist()"
   ]
  },
  {
   "cell_type": "code",
   "execution_count": 28,
   "id": "productive-crazy",
   "metadata": {
    "execution": {
     "iopub.execute_input": "2022-01-12T02:25:55.840719Z",
     "iopub.status.busy": "2022-01-12T02:25:55.840047Z",
     "iopub.status.idle": "2022-01-12T02:25:55.868010Z",
     "shell.execute_reply": "2022-01-12T02:25:55.867436Z",
     "shell.execute_reply.started": "2022-01-12T02:22:31.822629Z"
    },
    "papermill": {
     "duration": 0.083496,
     "end_time": "2022-01-12T02:25:55.868160",
     "exception": false,
     "start_time": "2022-01-12T02:25:55.784664",
     "status": "completed"
    },
    "tags": []
   },
   "outputs": [
    {
     "data": {
      "text/plain": [
       "(889,)"
      ]
     },
     "execution_count": 28,
     "metadata": {},
     "output_type": "execute_result"
    }
   ],
   "source": [
    "# convert pclass into category for encoder\n",
    "all_data.Pclass = all_data.Pclass.astype(str)\n",
    "\n",
    "# create dummy variables from categories\n",
    "# normally use onehotencoder\n",
    "all_dummies = pd.get_dummies(all_data[['Pclass','Sex','Age','SibSp',\n",
    "                                       'normal_fare','Parch','Embarked','cabin_type',\n",
    "                                       'cabin_multiple', 'ticket_numeric','name_title',\n",
    "                                       'train_test']])\n",
    "\n",
    "# split into train and test\n",
    "x_train = all_dummies[all_dummies.train_test == 1].drop(['train_test'], axis =1)\n",
    "x_test = all_dummies[all_dummies.train_test == 0].drop(['train_test'], axis =1)\n",
    "\n",
    "y_train = all_data[all_data.train_test == 1].Survived\n",
    "y_train.shape"
   ]
  },
  {
   "cell_type": "code",
   "execution_count": 29,
   "id": "continental-indonesia",
   "metadata": {
    "execution": {
     "iopub.execute_input": "2022-01-12T02:25:55.984244Z",
     "iopub.status.busy": "2022-01-12T02:25:55.983341Z",
     "iopub.status.idle": "2022-01-12T02:25:56.150537Z",
     "shell.execute_reply": "2022-01-12T02:25:56.149832Z",
     "shell.execute_reply.started": "2022-01-12T02:22:31.848045Z"
    },
    "papermill": {
     "duration": 0.227141,
     "end_time": "2022-01-12T02:25:56.150686",
     "exception": false,
     "start_time": "2022-01-12T02:25:55.923545",
     "status": "completed"
    },
    "tags": []
   },
   "outputs": [],
   "source": [
    "# scale data\n",
    "\n",
    "from sklearn.preprocessing import StandardScaler\n",
    "scale = StandardScaler()\n",
    "all_dummies_scaled = all_dummies.copy()\n",
    "all_dummies_scaled[['Age', 'SibSp', 'Parch', 'normal_fare']] = scale.fit_transform(\n",
    "    all_dummies_scaled[['Age', 'SibSp', 'Parch', 'normal_fare']])\n",
    "\n",
    "\n",
    "x_train_scaled = all_dummies_scaled[all_dummies_scaled.train_test == 1].drop(['train_test'], axis =1)\n",
    "x_test_scaled = all_dummies_scaled[all_dummies_scaled.train_test == 0].drop(['train_test'], axis =1)\n"
   ]
  },
  {
   "cell_type": "markdown",
   "id": "united-decline",
   "metadata": {
    "papermill": {
     "duration": 0.053154,
     "end_time": "2022-01-12T02:25:56.257396",
     "exception": false,
     "start_time": "2022-01-12T02:25:56.204242",
     "status": "completed"
    },
    "tags": []
   },
   "source": [
    "# **MODELS**\n",
    "\n",
    "start with baseline without tweaking"
   ]
  },
  {
   "cell_type": "code",
   "execution_count": 30,
   "id": "documentary-affair",
   "metadata": {
    "execution": {
     "iopub.execute_input": "2022-01-12T02:25:56.370259Z",
     "iopub.status.busy": "2022-01-12T02:25:56.369419Z",
     "iopub.status.idle": "2022-01-12T02:25:56.925545Z",
     "shell.execute_reply": "2022-01-12T02:25:56.924435Z",
     "shell.execute_reply.started": "2022-01-12T02:22:32.008633Z"
    },
    "papermill": {
     "duration": 0.61492,
     "end_time": "2022-01-12T02:25:56.925750",
     "exception": false,
     "start_time": "2022-01-12T02:25:56.310830",
     "status": "completed"
    },
    "tags": []
   },
   "outputs": [],
   "source": [
    "# n-fold cross validation\n",
    "from sklearn.model_selection import cross_val_score\n",
    "\n",
    "# naive bayes\n",
    "from sklearn.naive_bayes import GaussianNB\n",
    "\n",
    "# logistic regression\n",
    "from sklearn.linear_model import LogisticRegression\n",
    "\n",
    "# Decision Tree\n",
    "from sklearn import tree\n",
    "\n",
    "# K Nearest Neighbor\n",
    "from sklearn.neighbors import KNeighborsClassifier\n",
    "\n",
    "# Random Forest\n",
    "from sklearn.ensemble import RandomForestClassifier\n",
    "\n",
    "# support vector classifier\n",
    "from sklearn.svm import SVC\n",
    "\n",
    "\n",
    "\n"
   ]
  },
  {
   "cell_type": "code",
   "execution_count": 31,
   "id": "revolutionary-excess",
   "metadata": {
    "execution": {
     "iopub.execute_input": "2022-01-12T02:25:57.051303Z",
     "iopub.status.busy": "2022-01-12T02:25:57.050169Z",
     "iopub.status.idle": "2022-01-12T02:25:57.097976Z",
     "shell.execute_reply": "2022-01-12T02:25:57.097139Z",
     "shell.execute_reply.started": "2022-01-12T02:22:32.313926Z"
    },
    "papermill": {
     "duration": 0.110181,
     "end_time": "2022-01-12T02:25:57.098171",
     "exception": false,
     "start_time": "2022-01-12T02:25:56.987990",
     "status": "completed"
    },
    "tags": []
   },
   "outputs": [
    {
     "name": "stdout",
     "output_type": "stream",
     "text": [
      "[0.66853933 0.70224719 0.75842697 0.74719101 0.73446328]\n",
      "0.7221735542436362\n"
     ]
    }
   ],
   "source": [
    "# start with naive bayes as first baseline becuase most simple\n",
    "\n",
    "gnb = GaussianNB()\n",
    "cv_gnb = cross_val_score(gnb,x_train_scaled,y_train,cv=5)\n",
    "print(cv_gnb)\n",
    "print(cv_gnb.mean())"
   ]
  },
  {
   "cell_type": "code",
   "execution_count": 32,
   "id": "dietary-alabama",
   "metadata": {
    "execution": {
     "iopub.execute_input": "2022-01-12T02:25:57.214750Z",
     "iopub.status.busy": "2022-01-12T02:25:57.213723Z",
     "iopub.status.idle": "2022-01-12T02:25:57.471217Z",
     "shell.execute_reply": "2022-01-12T02:25:57.472266Z",
     "shell.execute_reply.started": "2022-01-12T02:22:32.594343Z"
    },
    "papermill": {
     "duration": 0.319784,
     "end_time": "2022-01-12T02:25:57.472548",
     "exception": false,
     "start_time": "2022-01-12T02:25:57.152764",
     "status": "completed"
    },
    "tags": []
   },
   "outputs": [
    {
     "name": "stdout",
     "output_type": "stream",
     "text": [
      "[0.8258427  0.80898876 0.80337079 0.82022472 0.85310734]\n",
      "0.8223068621849807\n"
     ]
    }
   ],
   "source": [
    "# logistic regression\n",
    "# max_iter = how many different model iterations it goes through, adding/subtracting\n",
    "# different predictor variables\n",
    "\n",
    "lr = LogisticRegression(max_iter = 2000)\n",
    "cv_lr =cross_val_score(lr,x_train_scaled,y_train,cv=5)\n",
    "print(cv_lr)\n",
    "print(cv_lr.mean())"
   ]
  },
  {
   "cell_type": "code",
   "execution_count": 33,
   "id": "central-appeal",
   "metadata": {
    "execution": {
     "iopub.execute_input": "2022-01-12T02:25:57.638593Z",
     "iopub.status.busy": "2022-01-12T02:25:57.637570Z",
     "iopub.status.idle": "2022-01-12T02:25:57.689934Z",
     "shell.execute_reply": "2022-01-12T02:25:57.690407Z",
     "shell.execute_reply.started": "2022-01-12T02:22:32.833617Z"
    },
    "papermill": {
     "duration": 0.11616,
     "end_time": "2022-01-12T02:25:57.690582",
     "exception": false,
     "start_time": "2022-01-12T02:25:57.574422",
     "status": "completed"
    },
    "tags": []
   },
   "outputs": [
    {
     "name": "stdout",
     "output_type": "stream",
     "text": [
      "[0.75842697 0.74719101 0.8258427  0.74719101 0.79661017]\n",
      "0.7750523709769569\n"
     ]
    }
   ],
   "source": [
    "# decistion tree\n",
    "\n",
    "dt = tree.DecisionTreeClassifier(random_state = 1)\n",
    "cv_dt = cross_val_score(dt,x_train_scaled,y_train,cv=5)\n",
    "print(cv_dt)\n",
    "print(cv_dt.mean())"
   ]
  },
  {
   "cell_type": "code",
   "execution_count": 34,
   "id": "alone-efficiency",
   "metadata": {
    "execution": {
     "iopub.execute_input": "2022-01-12T02:25:57.804875Z",
     "iopub.status.busy": "2022-01-12T02:25:57.804213Z",
     "iopub.status.idle": "2022-01-12T02:25:57.949884Z",
     "shell.execute_reply": "2022-01-12T02:25:57.950798Z",
     "shell.execute_reply.started": "2022-01-12T02:22:32.923600Z"
    },
    "papermill": {
     "duration": 0.206094,
     "end_time": "2022-01-12T02:25:57.951095",
     "exception": false,
     "start_time": "2022-01-12T02:25:57.745001",
     "status": "completed"
    },
    "tags": []
   },
   "outputs": [
    {
     "name": "stdout",
     "output_type": "stream",
     "text": [
      "[0.79775281 0.79213483 0.83146067 0.79775281 0.85310734]\n",
      "0.8144416936456548\n"
     ]
    }
   ],
   "source": [
    "# KNeighbors\n",
    "\n",
    "knc = KNeighborsClassifier()\n",
    "cv_knc = cross_val_score(knc,x_train_scaled,y_train,cv=5)\n",
    "print(cv_knc)\n",
    "print(cv_knc.mean())"
   ]
  },
  {
   "cell_type": "code",
   "execution_count": 35,
   "id": "saved-carolina",
   "metadata": {
    "execution": {
     "iopub.execute_input": "2022-01-12T02:25:58.131773Z",
     "iopub.status.busy": "2022-01-12T02:25:58.130733Z",
     "iopub.status.idle": "2022-01-12T02:25:59.390802Z",
     "shell.execute_reply": "2022-01-12T02:25:59.391342Z",
     "shell.execute_reply.started": "2022-01-12T02:22:33.076006Z"
    },
    "papermill": {
     "duration": 1.338882,
     "end_time": "2022-01-12T02:25:59.391518",
     "exception": false,
     "start_time": "2022-01-12T02:25:58.052636",
     "status": "completed"
    },
    "tags": []
   },
   "outputs": [
    {
     "name": "stdout",
     "output_type": "stream",
     "text": [
      "[0.8258427  0.78651685 0.86516854 0.73033708 0.83615819]\n",
      "0.8088046721259442\n"
     ]
    }
   ],
   "source": [
    "# Random Forest\n",
    "\n",
    "rfc = RandomForestClassifier(random_state = 1)\n",
    "cv_rfc = cross_val_score(rfc,x_train_scaled,y_train,cv=5)\n",
    "print(cv_rfc)\n",
    "print(cv_rfc.mean())"
   ]
  },
  {
   "cell_type": "code",
   "execution_count": 36,
   "id": "brown-intelligence",
   "metadata": {
    "execution": {
     "iopub.execute_input": "2022-01-12T02:25:59.509083Z",
     "iopub.status.busy": "2022-01-12T02:25:59.508399Z",
     "iopub.status.idle": "2022-01-12T02:26:00.188891Z",
     "shell.execute_reply": "2022-01-12T02:26:00.189411Z",
     "shell.execute_reply.started": "2022-01-12T02:22:34.106602Z"
    },
    "papermill": {
     "duration": 0.741754,
     "end_time": "2022-01-12T02:26:00.189600",
     "exception": false,
     "start_time": "2022-01-12T02:25:59.447846",
     "status": "completed"
    },
    "tags": []
   },
   "outputs": [
    {
     "name": "stdout",
     "output_type": "stream",
     "text": [
      "[0.85393258 0.82022472 0.8258427  0.80337079 0.86440678]\n",
      "0.8335555132355742\n"
     ]
    }
   ],
   "source": [
    "# support vector classifier\n",
    "\n",
    "svc = SVC(probability = True)\n",
    "cv_svc = cross_val_score(svc,x_train_scaled,y_train,cv=5)\n",
    "print(cv_svc)\n",
    "print(cv_svc.mean())"
   ]
  },
  {
   "cell_type": "markdown",
   "id": "enhanced-checklist",
   "metadata": {
    "papermill": {
     "duration": 0.056539,
     "end_time": "2022-01-12T02:26:00.302420",
     "exception": false,
     "start_time": "2022-01-12T02:26:00.245881",
     "status": "completed"
    },
    "tags": []
   },
   "source": [
    "**Voting Classifier**\n",
    "\n",
    "Takes all the models and has them vote on each decision\n",
    "\n",
    "soft - averages probabilities of the classifiers\n",
    "\n",
    "hard - counts just the votes (yes/no)\n"
   ]
  },
  {
   "cell_type": "code",
   "execution_count": 37,
   "id": "attached-dialogue",
   "metadata": {
    "execution": {
     "iopub.execute_input": "2022-01-12T02:26:00.415946Z",
     "iopub.status.busy": "2022-01-12T02:26:00.415297Z",
     "iopub.status.idle": "2022-01-12T02:26:03.126978Z",
     "shell.execute_reply": "2022-01-12T02:26:03.126006Z",
     "shell.execute_reply.started": "2022-01-12T02:22:34.796488Z"
    },
    "papermill": {
     "duration": 2.769782,
     "end_time": "2022-01-12T02:26:03.127240",
     "exception": false,
     "start_time": "2022-01-12T02:26:00.357458",
     "status": "completed"
    },
    "tags": []
   },
   "outputs": [
    {
     "name": "stdout",
     "output_type": "stream",
     "text": [
      "[0.81460674 0.81460674 0.8258427  0.78089888 0.87570621]\n",
      "0.8223322541738082\n"
     ]
    }
   ],
   "source": [
    "from sklearn.ensemble import VotingClassifier\n",
    "voting_class = VotingClassifier(estimators = [('lr',lr),('knn',knc),('gnb',gnb),\n",
    "                                             ('dt',dt),('rfc',rfc),('svc',svc)],\n",
    "                               voting = 'soft')\n",
    "\n",
    "cv_vc = cross_val_score(voting_class, x_train_scaled, y_train, cv = 5)\n",
    "print(cv_vc)\n",
    "print(cv_vc.mean())"
   ]
  },
  {
   "cell_type": "code",
   "execution_count": 38,
   "id": "judicial-government",
   "metadata": {
    "execution": {
     "iopub.execute_input": "2022-01-12T02:26:03.275254Z",
     "iopub.status.busy": "2022-01-12T02:26:03.274355Z",
     "iopub.status.idle": "2022-01-12T02:26:03.937228Z",
     "shell.execute_reply": "2022-01-12T02:26:03.936252Z",
     "shell.execute_reply.started": "2022-01-12T02:22:37.219617Z"
    },
    "papermill": {
     "duration": 0.727187,
     "end_time": "2022-01-12T02:26:03.937493",
     "exception": false,
     "start_time": "2022-01-12T02:26:03.210306",
     "status": "completed"
    },
    "tags": []
   },
   "outputs": [],
   "source": [
    "# this is hot you fit the model and then test it with the test data\n",
    "# you put the predicted array into a data frame and the submit\n",
    "\n",
    "voting_class.fit(x_train_scaled, y_train)\n",
    "\n",
    "y_hat_base_vc = voting_class.predict(x_test_scaled)\n",
    "\n"
   ]
  },
  {
   "cell_type": "code",
   "execution_count": 39,
   "id": "superior-logan",
   "metadata": {
    "execution": {
     "iopub.execute_input": "2022-01-12T02:26:04.070806Z",
     "iopub.status.busy": "2022-01-12T02:26:04.069887Z",
     "iopub.status.idle": "2022-01-12T02:26:04.077980Z",
     "shell.execute_reply": "2022-01-12T02:26:04.078599Z",
     "shell.execute_reply.started": "2022-01-12T02:22:37.826425Z"
    },
    "papermill": {
     "duration": 0.074623,
     "end_time": "2022-01-12T02:26:04.078779",
     "exception": false,
     "start_time": "2022-01-12T02:26:04.004156",
     "status": "completed"
    },
    "tags": []
   },
   "outputs": [],
   "source": [
    "basic_submission = {'PassengerId':test.PassengerId, 'Survived':y_hat_base_vc}\n",
    "base_submission = pd.DataFrame(data=basic_submission)\n",
    "base_submission.to_csv('base_submission.csv', index=False)"
   ]
  }
 ],
 "metadata": {
  "kernelspec": {
   "display_name": "Python 3",
   "language": "python",
   "name": "python3"
  },
  "language_info": {
   "codemirror_mode": {
    "name": "ipython",
    "version": 3
   },
   "file_extension": ".py",
   "mimetype": "text/x-python",
   "name": "python",
   "nbconvert_exporter": "python",
   "pygments_lexer": "ipython3",
   "version": "3.7.10"
  },
  "papermill": {
   "default_parameters": {},
   "duration": 38.022504,
   "end_time": "2022-01-12T02:26:05.623382",
   "environment_variables": {},
   "exception": null,
   "input_path": "__notebook__.ipynb",
   "output_path": "__notebook__.ipynb",
   "parameters": {},
   "start_time": "2022-01-12T02:25:27.600878",
   "version": "2.3.3"
  }
 },
 "nbformat": 4,
 "nbformat_minor": 5
}
